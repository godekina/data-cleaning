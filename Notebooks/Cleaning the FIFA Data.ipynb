{
 "cells": [
  {
   "cell_type": "markdown",
   "id": "e27525d0",
   "metadata": {
    "id": "e27525d0"
   },
   "source": [
    "### Data usually requires cleaning and preparation to ensure that insights obtained from it can be relied upon. \n",
    "### here are several reasons why data may contain errors:"
   ]
  },
  {
   "cell_type": "markdown",
   "id": "8fb86a66",
   "metadata": {
    "id": "8fb86a66"
   },
   "source": [
    "- Typographical Errors:\n",
    "    Transcription Errors,  \n",
    "      Incomplete Data\n",
    "\n",
    "- Missing Values:\n",
    "    Null or NaN Values,\n",
    "    Inconsistent Data\n",
    "\n",
    "- Inconsistent Units:\n",
    "    Inconsistent Formatting,\n",
    "    Outliers\n",
    "\n",
    "- Data Entry Errors:\n",
    "    Genuine Outliers,\n",
    "    Duplications\n",
    "\n",
    "\n",
    "\n",
    "- Incorrect Data Types:\n",
    "    Mixed Data Types,\n",
    "    Inaccurate Sources\n",
    "\n",
    "- Errors in Source Data:\n",
    "    Measurement Errors\n",
    "\n"
   ]
  },
  {
   "cell_type": "code",
   "execution_count": null,
   "id": "be9a0580",
   "metadata": {
    "executionInfo": {
     "elapsed": 729,
     "status": "ok",
     "timestamp": 1729966561245,
     "user": {
      "displayName": "Gideon Odekina",
      "userId": "17554260433687933441"
     },
     "user_tz": -60
    },
    "id": "be9a0580"
   },
   "outputs": [],
   "source": [
    "import pandas as pd\n",
    "import numpy as np"
   ]
  },
  {
   "cell_type": "code",
   "execution_count": null,
   "id": "51c874ce",
   "metadata": {
    "colab": {
     "base_uri": "https://localhost:8080/"
    },
    "executionInfo": {
     "elapsed": 1064,
     "status": "ok",
     "timestamp": 1729966564118,
     "user": {
      "displayName": "Gideon Odekina",
      "userId": "17554260433687933441"
     },
     "user_tz": -60
    },
    "id": "51c874ce",
    "outputId": "81213f49-2406-400b-8637-e85998c74eec"
   },
   "outputs": [],
   "source": [
    "df = pd.read_csv('../Data/fifa.csv') # load your data"
   ]
  },
  {
   "cell_type": "markdown",
   "id": "45eb2145",
   "metadata": {
    "id": "45eb2145"
   },
   "source": [
    "1. Check the Data in Columns:\n",
    "\n",
    "Examine the contents of columns 14 and 26 to understand why they have mixed data types. Use df.iloc[:, 14] and df.iloc[:, 26] to inspect the data."
   ]
  },
  {
   "cell_type": "code",
   "execution_count": null,
   "id": "0354ac52",
   "metadata": {
    "id": "0354ac52",
    "scrolled": true
   },
   "outputs": [],
   "source": [
    "df.iloc[:, 14]"
   ]
  },
  {
   "cell_type": "markdown",
   "id": "74183948",
   "metadata": {
    "id": "74183948"
   },
   "source": [
    "The data contained in the Free kick accuracy column should be represented as a numeric type (int or float), pandas represents columns as objects if there are mixed data types (strings, numbers) within a column thus safely infering that these columns are objects."
   ]
  },
  {
   "cell_type": "markdown",
   "id": "b624657a",
   "metadata": {
    "id": "b624657a"
   },
   "source": [
    "more on object data types [https://pandas.pydata.org/docs/reference/arrays.html#objects]"
   ]
  },
  {
   "cell_type": "code",
   "execution_count": null,
   "id": "f89b305f",
   "metadata": {
    "id": "f89b305f"
   },
   "outputs": [],
   "source": [
    "df.iloc[0, 14]"
   ]
  },
  {
   "cell_type": "markdown",
   "id": "e50e4a43",
   "metadata": {
    "id": "e50e4a43"
   },
   "source": [
    "looking closely, the data in that column is represented as strings"
   ]
  },
  {
   "cell_type": "code",
   "execution_count": null,
   "id": "585d9a20",
   "metadata": {
    "id": "585d9a20"
   },
   "outputs": [],
   "source": [
    "df.iloc[:, 26]"
   ]
  },
  {
   "cell_type": "markdown",
   "id": "b9420400",
   "metadata": {
    "id": "b9420400"
   },
   "source": [
    "2. Specify Data Types Explicitly:\n",
    "\n",
    "When reading the CSV file, explicitly specify the data types for these columns using the dtype parameter in pd.read_csv. For example, if the columns contain numbers, you can set them to a numeric type, reloading the data to correct for the data type reveals something interesting within the data, check within the error message. find the last line of the Traceback."
   ]
  },
  {
   "cell_type": "code",
   "execution_count": null,
   "id": "d974fdac",
   "metadata": {
    "id": "d974fdac",
    "scrolled": true
   },
   "outputs": [],
   "source": [
    "df2 = pd.read_csv('../Data/fifa.csv', dtype={'Free kick accuracy': int, 'Penalties': int})"
   ]
  },
  {
   "cell_type": "code",
   "execution_count": null,
   "id": "b67fa588",
   "metadata": {
    "id": "b67fa588"
   },
   "outputs": [],
   "source": [
    "# find the row with '81+1' as it appears within the columns\n",
    "df[df.iloc[:, 14].isin(['81+1'])]"
   ]
  },
  {
   "cell_type": "markdown",
   "id": "c0450048",
   "metadata": {
    "id": "c0450048"
   },
   "source": [
    "- The values like \"79+2\" and \"81+1\" in a FIFA dataset likely represent a player's overall rating and additional attributes or boosts. In FIFA video games, a player's overall rating is often composed of their base attributes plus potential boosts or modifiers. The format \"79+2\" suggests a base rating of 79 with an additional boost of 2.\n",
    "\n",
    "- The additional values (e.g., \"+2\" or \"+1\") are usually modifiers that reflect temporary improvements or boosts to certain attributes. These boosts may be applied based on the player's performance in recent matches, achievements, or other in-game factors.\n",
    "\n",
    "- As for the data type, when you see values like \"79+2\" in a dataset, the column containing these values is likely of type object or string. Pandas might interpret such columns as containing mixed data types if some values are purely numeric, and others have additional characters like '+'."
   ]
  },
  {
   "cell_type": "markdown",
   "id": "a61f0265",
   "metadata": {
    "id": "a61f0265"
   },
   "source": [
    "3. Several other columns represent certain observations this way, using the .info() method on the DataFrame will show the data types for all columns in the dataset."
   ]
  },
  {
   "cell_type": "code",
   "execution_count": null,
   "id": "3016c69e",
   "metadata": {
    "id": "3016c69e"
   },
   "outputs": [],
   "source": [
    "df.info()"
   ]
  },
  {
   "cell_type": "code",
   "execution_count": null,
   "id": "567530a4",
   "metadata": {
    "id": "567530a4"
   },
   "outputs": [],
   "source": [
    "# check for the sum of missing values\n",
    "df.isna().sum()"
   ]
  },
  {
   "cell_type": "code",
   "execution_count": null,
   "id": "1c20a3ad",
   "metadata": {
    "executionInfo": {
     "elapsed": 365,
     "status": "ok",
     "timestamp": 1729966573062,
     "user": {
      "displayName": "Gideon Odekina",
      "userId": "17554260433687933441"
     },
     "user_tz": -60
    },
    "id": "1c20a3ad"
   },
   "outputs": [],
   "source": [
    "# create a copy of dataframe for manipulation\n",
    "df_copy = df.copy()"
   ]
  },
  {
   "cell_type": "code",
   "execution_count": null,
   "id": "25b5b56b",
   "metadata": {
    "executionInfo": {
     "elapsed": 2,
     "status": "ok",
     "timestamp": 1729966574873,
     "user": {
      "displayName": "Gideon Odekina",
      "userId": "17554260433687933441"
     },
     "user_tz": -60
    },
    "id": "25b5b56b"
   },
   "outputs": [],
   "source": [
    "# take a part of the data without data type issues\n",
    "proper_cols = ['Name', 'Age', 'Nationality', 'Preferred Positions', 'Overall']\n",
    "proper_df = df_copy[proper_cols]"
   ]
  },
  {
   "cell_type": "code",
   "execution_count": null,
   "id": "a569ddba",
   "metadata": {
    "id": "a569ddba"
   },
   "outputs": [],
   "source": [
    "proper_df"
   ]
  },
  {
   "cell_type": "code",
   "execution_count": null,
   "id": "ef154d7f",
   "metadata": {
    "executionInfo": {
     "elapsed": 2,
     "status": "ok",
     "timestamp": 1729966578544,
     "user": {
      "displayName": "Gideon Odekina",
      "userId": "17554260433687933441"
     },
     "user_tz": -60
    },
    "id": "ef154d7f"
   },
   "outputs": [],
   "source": [
    "# selesct the columns to focus on\n",
    "numeric_df = df_copy.drop(proper_cols, axis=1)"
   ]
  },
  {
   "cell_type": "code",
   "execution_count": null,
   "id": "0ea4479c",
   "metadata": {
    "id": "0ea4479c"
   },
   "outputs": [],
   "source": [
    "numeric_df.info()"
   ]
  },
  {
   "cell_type": "code",
   "execution_count": null,
   "id": "5d3de460",
   "metadata": {
    "executionInfo": {
     "elapsed": 2294,
     "status": "ok",
     "timestamp": 1729966600884,
     "user": {
      "displayName": "Gideon Odekina",
      "userId": "17554260433687933441"
     },
     "user_tz": -60
    },
    "id": "5d3de460"
   },
   "outputs": [],
   "source": [
    "# Method 1: Convert numeric columns to numeric type after removing boost values\n",
    "numeric_df = numeric_df.apply(lambda x: pd.to_numeric(x.str.split('[+-]').str[0]))"
   ]
  },
  {
   "cell_type": "markdown",
   "id": "2582ac16-e078-4f72-9029-eb4342e45de2",
   "metadata": {},
   "source": [
    "Note: The boosts can be additions as well as subractions."
   ]
  },
  {
   "cell_type": "code",
   "execution_count": null,
   "id": "0d627791",
   "metadata": {
    "colab": {
     "base_uri": "https://localhost:8080/"
    },
    "executionInfo": {
     "elapsed": 353,
     "status": "ok",
     "timestamp": 1729966604568,
     "user": {
      "displayName": "Gideon Odekina",
      "userId": "17554260433687933441"
     },
     "user_tz": -60
    },
    "id": "0d627791",
    "outputId": "2c99c8cc-9cde-4014-c2b5-3b52cb5dbf6a"
   },
   "outputs": [],
   "source": [
    "numeric_df.dtypes"
   ]
  },
  {
   "cell_type": "code",
   "execution_count": null,
   "id": "e93fdf1d",
   "metadata": {
    "executionInfo": {
     "elapsed": 2,
     "status": "ok",
     "timestamp": 1729966610723,
     "user": {
      "displayName": "Gideon Odekina",
      "userId": "17554260433687933441"
     },
     "user_tz": -60
    },
    "id": "e93fdf1d"
   },
   "outputs": [],
   "source": [
    "final_df = pd.concat([proper_df, numeric_df], axis=1)"
   ]
  },
  {
   "cell_type": "code",
   "execution_count": null,
   "id": "fa89dc4b",
   "metadata": {
    "id": "fa89dc4b"
   },
   "outputs": [],
   "source": [
    "# creating a checkpoint\n",
    "final_df.to_csv('../Data/final.csv', index=False)"
   ]
  },
  {
   "cell_type": "code",
   "execution_count": null,
   "id": "374a15a5-8ec6-4edb-8594-57db2d8ddf55",
   "metadata": {},
   "outputs": [],
   "source": [
    "# Method 2: Convert to numeric while 'eval'uating the boost values\n",
    "numeric_df2 = df_copy.drop(proper_cols, axis=1)"
   ]
  },
  {
   "cell_type": "code",
   "execution_count": null,
   "id": "1ffe0575-796d-40f7-a7d2-7ae044bdd186",
   "metadata": {},
   "outputs": [],
   "source": [
    "for col in numeric_df2.columns:\n",
    "    print(col)\n",
    "    numeric_df2[col] = [eval(value) if isinstance(value, str) else value for value in numeric_df2[col]]"
   ]
  },
  {
   "cell_type": "code",
   "execution_count": null,
   "id": "359bc44e-ff61-4fbf-acc0-ab1398bd9ec4",
   "metadata": {},
   "outputs": [],
   "source": [
    "### The dataset contains some spurious values, using DataFrame.describe() we discover that some maximum values are way above 100"
   ]
  },
  {
   "cell_type": "code",
   "execution_count": null,
   "id": "fa108318-f00a-4e5c-bc8e-463c134e8c05",
   "metadata": {},
   "outputs": [],
   "source": [
    "df = pd.read_csv('../Data/final.csv')"
   ]
  },
  {
   "cell_type": "code",
   "execution_count": null,
   "id": "d2b1fddc-cd21-418d-a010-2e12afc0d1b1",
   "metadata": {},
   "outputs": [],
   "source": [
    "df.info()"
   ]
  },
  {
   "cell_type": "code",
   "execution_count": null,
   "id": "efe09b41-f7ec-43f3-9041-65dc277f5279",
   "metadata": {},
   "outputs": [],
   "source": [
    "# spurious values\n",
    "for col in df.columns:\n",
    "    if df[col].dtypes != 'object':\n",
    "        df[col] = df[col].apply(lambda x: x if x <= 100 else np.nan)"
   ]
  },
  {
   "cell_type": "code",
   "execution_count": null,
   "id": "a408b640-94d2-40dd-b650-978077bddbde",
   "metadata": {},
   "outputs": [],
   "source": [
    "df.isna().sum()"
   ]
  },
  {
   "cell_type": "code",
   "execution_count": null,
   "id": "5714084d-9ead-4aa5-8d5d-367f27cb9c28",
   "metadata": {},
   "outputs": [],
   "source": [
    "df.dropna(inplace=True)"
   ]
  },
  {
   "cell_type": "code",
   "execution_count": null,
   "id": "df2aef69-da47-40a1-8dc6-7dbd02b5b5f8",
   "metadata": {},
   "outputs": [],
   "source": [
    "df.describe()"
   ]
  },
  {
   "cell_type": "code",
   "execution_count": null,
   "id": "f715d962-b879-45fb-ab50-07bfe9768f10",
   "metadata": {},
   "outputs": [],
   "source": [
    "# creating a checkpoint\n",
    "df.to_csv('../Data/final2.csv', index=False)"
   ]
  },
  {
   "cell_type": "code",
   "execution_count": null,
   "id": "4f5f20f4-7891-437e-99ad-4aab29b9003f",
   "metadata": {},
   "outputs": [],
   "source": []
  }
 ],
 "metadata": {
  "colab": {
   "provenance": []
  },
  "kernelspec": {
   "display_name": "Python 3 (ipykernel)",
   "language": "python",
   "name": "python3"
  },
  "language_info": {
   "codemirror_mode": {
    "name": "ipython",
    "version": 3
   },
   "file_extension": ".py",
   "mimetype": "text/x-python",
   "name": "python",
   "nbconvert_exporter": "python",
   "pygments_lexer": "ipython3",
   "version": "3.11.7"
  }
 },
 "nbformat": 4,
 "nbformat_minor": 5
}
